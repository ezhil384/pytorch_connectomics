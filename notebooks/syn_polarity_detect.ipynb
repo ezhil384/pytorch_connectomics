{
  "nbformat": 4,
  "nbformat_minor": 0,
  "metadata": {
    "colab": {
      "provenance": []
    },
    "kernelspec": {
      "name": "python3",
      "display_name": "Python 3"
    },
    "language_info": {
      "name": "python"
    },
    "gpuClass": "standard",
    "accelerator": "GPU"
  },
  "cells": [
    {
      "cell_type": "markdown",
      "source": [
        "Installing protobuf (3.9.2) for SummaryWriter(log_path) in pytorch_connectomics/connectomics/utils/monitor.py to work on colab"
      ],
      "metadata": {
        "id": "kO2rj3MRHike"
      }
    },
    {
      "cell_type": "code",
      "source": [
        "!pip install protobuf==3.9.2"
      ],
      "metadata": {
        "id": "6H7NBX9RBK8z"
      },
      "execution_count": null,
      "outputs": []
    },
    {
      "cell_type": "markdown",
      "source": [
        "Download the dataset JWR15 from the website given in the tutorial"
      ],
      "metadata": {
        "id": "dUXGCl_8IDai"
      }
    },
    {
      "cell_type": "code",
      "source": [
        "!wget http://rhoana.rc.fas.harvard.edu/dataset/jwr15_synapse.zip"
      ],
      "metadata": {
        "id": "equc0dnoBLd-"
      },
      "execution_count": null,
      "outputs": []
    },
    {
      "cell_type": "code",
      "execution_count": null,
      "metadata": {
        "id": "jo48rVGPJGyn"
      },
      "outputs": [],
      "source": [
        "!git clone https://github.com/zudi-lin/pytorch_connectomics.git\n",
        "!unzip jwr15_synapse.zip -d /content/pytorch_connectomics\n",
        "%cd pytorch_connectomics"
      ]
    },
    {
      "cell_type": "code",
      "source": [
        "!pip install --editable ."
      ],
      "metadata": {
        "id": "T_wv9-uKNKU5"
      },
      "execution_count": null,
      "outputs": []
    },
    {
      "cell_type": "markdown",
      "source": [
        "Using configuration files with the required changes for usage on colab notebooks. It needs -\n",
        "\n",
        "\n",
        "1.   Changing number of GPU = 1 and CPU = 2\n",
        "2.   Changing normalization from 'gn' to 'bn'\n",
        "\n"
      ],
      "metadata": {
        "id": "7XEZ4DDsINfO"
      }
    },
    {
      "cell_type": "code",
      "source": [
        "!cp '/content/drive/MyDrive/build.py' '/content/pytorch_connectomics/connectomics/data/dataset/'\n",
        "!cp '/content/drive/MyDrive/JWR15-Synapse-Base.yaml' '/content/pytorch_connectomics/configs/JWR15/synapse/'"
      ],
      "metadata": {
        "id": "y2v-ha63IJXI"
      },
      "execution_count": null,
      "outputs": []
    },
    {
      "cell_type": "markdown",
      "source": [
        "\n",
        "1.   Link to configuration file - https://drive.google.com/file/d/12H5N-LEJXr1LBFM5zocAKuUL4y0NxQ-Y/view?usp=share_link\n",
        "2.   Link to my checkpoint for 10000 iterations - https://drive.google.com/file/d/1qbYEDroIP0Ahx1lIv3cSuv2-q58raYmq/view?usp=share_link\n",
        "\n"
      ],
      "metadata": {
        "id": "Gq30jYg6Iug_"
      }
    },
    {
      "cell_type": "code",
      "source": [
        "!cp '/content/drive/MyDrive/checkpoint_10000.pth.tar' '/content/pytorch_connectomics/'"
      ],
      "metadata": {
        "id": "yWyAo8Ekd_sI"
      },
      "execution_count": null,
      "outputs": []
    },
    {
      "cell_type": "code",
      "source": [
        "!CUDA_VISIBLE_DEVICES=0 python -u -m torch.distributed.run \\\n",
        "--nproc_per_node=1 --master_port=5679 scripts/main.py --distributed \\\n",
        "--config-base configs/JWR15/synapse/JWR15-Synapse-Base.yaml \\\n",
        "--config-file configs/JWR15/synapse/JWR15-Synapse-BCE.yaml \\\n",
        "#--checkpoint checkpoint_10000.pth.tar"
      ],
      "metadata": {
        "id": "ghe4emucOdC8"
      },
      "execution_count": null,
      "outputs": []
    },
    {
      "cell_type": "code",
      "source": [
        "from tensorflow.python.client import device_lib\n",
        "print (device_lib.list_local_devices())\n",
        "print(torch.cuda.get_device_name(0))"
      ],
      "metadata": {
        "id": "uPyPYQKy1EqS"
      },
      "execution_count": null,
      "outputs": []
    }
  ]
}